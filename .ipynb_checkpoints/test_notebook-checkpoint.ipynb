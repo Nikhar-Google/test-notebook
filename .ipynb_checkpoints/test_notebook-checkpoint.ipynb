{
 "cells": [
  {
   "cell_type": "raw",
   "id": "ef77202a-c303-44d4-be16-6e4ab038d804",
   "metadata": {},
   "source": [
    "Running a test notebook"
   ]
  },
  {
   "cell_type": "code",
   "execution_count": 3,
   "id": "12c7e1d9-a164-4645-af5b-d296c0a6290b",
   "metadata": {},
   "outputs": [
    {
     "name": "stdout",
     "output_type": "stream",
     "text": [
      "3\n"
     ]
    }
   ],
   "source": [
    "x=3\n",
    "print(x)"
   ]
  },
  {
   "cell_type": "code",
   "execution_count": 7,
   "id": "1078ad24-e5a8-49cb-ad65-1004fcd37805",
   "metadata": {},
   "outputs": [
    {
     "name": "stdout",
     "output_type": "stream",
     "text": [
      "/Users/niagra/pasnotebooktrial/.venv/bin/python\n"
     ]
    }
   ],
   "source": [
    "!which python"
   ]
  },
  {
   "cell_type": "code",
   "execution_count": null,
   "id": "08411e98-729e-42ff-bdcb-7c64954d5e8f",
   "metadata": {},
   "outputs": [],
   "source": [
    "from odd_even_classifier import OddEvenClassifier"
   ]
  }
 ],
 "metadata": {
  "kernelspec": {
   "display_name": "Python 3 (ipykernel)",
   "language": "python",
   "name": "python3"
  },
  "language_info": {
   "codemirror_mode": {
    "name": "ipython",
    "version": 3
   },
   "file_extension": ".py",
   "mimetype": "text/x-python",
   "name": "python",
   "nbconvert_exporter": "python",
   "pygments_lexer": "ipython3",
   "version": "3.9.6"
  }
 },
 "nbformat": 4,
 "nbformat_minor": 5
}
