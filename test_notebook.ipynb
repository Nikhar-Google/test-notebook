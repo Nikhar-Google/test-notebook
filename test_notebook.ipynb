{
 "cells": [
  {
   "cell_type": "raw",
   "id": "ef77202a-c303-44d4-be16-6e4ab038d804",
   "metadata": {},
   "source": [
    "Running a test notebook"
   ]
  },
  {
   "cell_type": "code",
   "execution_count": 3,
   "id": "12c7e1d9-a164-4645-af5b-d296c0a6290b",
   "metadata": {},
   "outputs": [
    {
     "name": "stdout",
     "output_type": "stream",
     "text": [
      "3\n"
     ]
    }
   ],
   "source": [
    "x=3\n",
    "print(x)"
   ]
  },
  {
   "cell_type": "code",
   "execution_count": 1,
   "id": "1ac3b0da-5f2c-4709-bcd0-2964a4add3ec",
   "metadata": {},
   "outputs": [],
   "source": [
    "from odd_even_classifier import OddEvenClassifier\n",
    "\n",
    "classifier = OddEvenClassifier()\n",
    "classifier.train(epochs=100)\n",
    "\n",
    "# Make predictions\n",
    "print(classifier.predict([3, 4, 10]))\n"
   ]
  }
 ],
 "metadata": {
  "kernelspec": {
   "display_name": "Python 3 (ipykernel)",
   "language": "python",
   "name": "python3"
  },
  "language_info": {
   "codemirror_mode": {
    "name": "ipython",
    "version": 3
   },
   "file_extension": ".py",
   "mimetype": "text/x-python",
   "name": "python",
   "nbconvert_exporter": "python",
   "pygments_lexer": "ipython3",
   "version": "3.9.6"
  }
 },
 "nbformat": 4,
 "nbformat_minor": 5
}
